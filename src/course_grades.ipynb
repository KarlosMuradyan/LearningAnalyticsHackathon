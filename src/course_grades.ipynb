{
 "cells": [
  {
   "cell_type": "code",
   "execution_count": 4,
   "metadata": {},
   "outputs": [],
   "source": [
    "import pandas as pd\n",
    "import numpy as np\n",
    "import re\n",
    "import os"
   ]
  },
  {
   "cell_type": "code",
   "execution_count": 5,
   "metadata": {},
   "outputs": [],
   "source": [
    "course_grades_s19 = open(\"../data/course_grade_metrics.txt\").read()"
   ]
  },
  {
   "cell_type": "code",
   "execution_count": 6,
   "metadata": {},
   "outputs": [],
   "source": [
    "course_grades_s19_list = course_grades_s19.split(\"\\n\")"
   ]
  },
  {
   "cell_type": "code",
   "execution_count": 7,
   "metadata": {},
   "outputs": [],
   "source": [
    "course_code_pattern = re.compile(\"[A-Z]{4}\\\\s[0-9]{3}\\\\b\")"
   ]
  },
  {
   "cell_type": "code",
   "execution_count": 8,
   "metadata": {},
   "outputs": [],
   "source": [
    "avg_list = []\n",
    "sd_list = []\n",
    "min_list = []\n",
    "max_list = []\n",
    "course_code_set = set([\"ACAM 204\"])\n",
    "\n",
    "for i in range(len(course_grades_s19_list)):\n",
    "    if course_grades_s19_list[i] == \"Avg. %\":\n",
    "        a = course_grades_s19_list[i+2:i+44]\n",
    "        a.append(course_grades_s19_list[i+43])\n",
    "        avg_list.append(a)\n",
    "    elif course_grades_s19_list[i] == \"Std. dev.\":\n",
    "        a = course_grades_s19_list[i+2:i+44]\n",
    "        sd_list.append(a)\n",
    "    elif course_grades_s19_list[i] == \"Min. %\":\n",
    "        a = course_grades_s19_list[i+2:i+44]\n",
    "        min_list.append(a)\n",
    "    elif course_grades_s19_list[i] == \"Max. %\":\n",
    "        a = course_grades_s19_list[i+2:i+44]\n",
    "        max_list.append(a)\n",
    "    elif course_code_pattern.match(course_grades_s19_list[i]):\n",
    "        course_code_set.add(course_grades_s19_list[i][0:8])"
   ]
  },
  {
   "cell_type": "code",
   "execution_count": 9,
   "metadata": {},
   "outputs": [],
   "source": [
    "average_grades = np.array(avg_list).flatten()[:603]\n",
    "standard_dev_grades = np.array(sd_list).flatten()[:603]\n",
    "min_grades = np.array(sd_list).flatten()[:603]\n",
    "max_grades = np.array(max_list).flatten()[:603]\n",
    "min_grades = np.array(min_list).flatten()[:603]"
   ]
  },
  {
   "cell_type": "code",
   "execution_count": 10,
   "metadata": {},
   "outputs": [],
   "source": [
    "course_grades_ubc_df = pd.DataFrame({\"Average\" : average_grades,\n",
    "              \"Standard Deviation\" : standard_dev_grades,\n",
    "              \"min\": min_grades, \n",
    "              \"max\": max_grades},\n",
    "             index = course_code_set)"
   ]
  },
  {
   "cell_type": "code",
   "execution_count": 11,
   "metadata": {},
   "outputs": [],
   "source": [
    "course_grades_ubc_df.index.names = [\"Course code\"]"
   ]
  },
  {
   "cell_type": "code",
   "execution_count": 12,
   "metadata": {},
   "outputs": [
    {
     "data": {
      "text/html": [
       "<div>\n",
       "<style scoped>\n",
       "    .dataframe tbody tr th:only-of-type {\n",
       "        vertical-align: middle;\n",
       "    }\n",
       "\n",
       "    .dataframe tbody tr th {\n",
       "        vertical-align: top;\n",
       "    }\n",
       "\n",
       "    .dataframe thead th {\n",
       "        text-align: right;\n",
       "    }\n",
       "</style>\n",
       "<table border=\"1\" class=\"dataframe\">\n",
       "  <thead>\n",
       "    <tr style=\"text-align: right;\">\n",
       "      <th></th>\n",
       "      <th>Average</th>\n",
       "      <th>Standard Deviation</th>\n",
       "      <th>min</th>\n",
       "      <th>max</th>\n",
       "    </tr>\n",
       "    <tr>\n",
       "      <th>Course code</th>\n",
       "      <th></th>\n",
       "      <th></th>\n",
       "      <th></th>\n",
       "      <th></th>\n",
       "    </tr>\n",
       "  </thead>\n",
       "  <tbody>\n",
       "    <tr>\n",
       "      <td>CHIN 485</td>\n",
       "      <td>86.7</td>\n",
       "      <td>3.2</td>\n",
       "      <td>81.0</td>\n",
       "      <td>91.0</td>\n",
       "    </tr>\n",
       "    <tr>\n",
       "      <td>SOCI 382</td>\n",
       "      <td>84.0</td>\n",
       "      <td>7.8</td>\n",
       "      <td>67.0</td>\n",
       "      <td>97.0</td>\n",
       "    </tr>\n",
       "    <tr>\n",
       "      <td>COMM 393</td>\n",
       "      <td>84.9</td>\n",
       "      <td>6.2</td>\n",
       "      <td>57.0</td>\n",
       "      <td>93.0</td>\n",
       "    </tr>\n",
       "    <tr>\n",
       "      <td>ETEC 500</td>\n",
       "      <td>84.3</td>\n",
       "      <td>6.5</td>\n",
       "      <td>64.0</td>\n",
       "      <td>94.0</td>\n",
       "    </tr>\n",
       "    <tr>\n",
       "      <td>MATH 316</td>\n",
       "      <td>90.0</td>\n",
       "      <td>5.3</td>\n",
       "      <td>75.0</td>\n",
       "      <td>98.0</td>\n",
       "    </tr>\n",
       "    <tr>\n",
       "      <td>...</td>\n",
       "      <td>...</td>\n",
       "      <td>...</td>\n",
       "      <td>...</td>\n",
       "      <td>...</td>\n",
       "    </tr>\n",
       "    <tr>\n",
       "      <td>MRNE 402</td>\n",
       "      <td>86.3</td>\n",
       "      <td>13.3</td>\n",
       "      <td>0.0</td>\n",
       "      <td>90.0</td>\n",
       "    </tr>\n",
       "    <tr>\n",
       "      <td>VANT 140</td>\n",
       "      <td>89.1</td>\n",
       "      <td>15.2</td>\n",
       "      <td>0.0</td>\n",
       "      <td>100.0</td>\n",
       "    </tr>\n",
       "    <tr>\n",
       "      <td>BUSI 455</td>\n",
       "      <td>88.9</td>\n",
       "      <td>11.1</td>\n",
       "      <td>38.0</td>\n",
       "      <td>92.0</td>\n",
       "    </tr>\n",
       "    <tr>\n",
       "      <td>POLI 100</td>\n",
       "      <td>88.9</td>\n",
       "      <td>13.3</td>\n",
       "      <td>0.0</td>\n",
       "      <td>98.0</td>\n",
       "    </tr>\n",
       "    <tr>\n",
       "      <td>ENGL 348</td>\n",
       "      <td>70.4</td>\n",
       "      <td>4.1</td>\n",
       "      <td>82.0</td>\n",
       "      <td>95.0</td>\n",
       "    </tr>\n",
       "  </tbody>\n",
       "</table>\n",
       "<p>603 rows × 4 columns</p>\n",
       "</div>"
      ],
      "text/plain": [
       "            Average Standard Deviation   min    max\n",
       "Course code                                        \n",
       "CHIN 485       86.7                3.2  81.0   91.0\n",
       "SOCI 382       84.0                7.8  67.0   97.0\n",
       "COMM 393       84.9                6.2  57.0   93.0\n",
       "ETEC 500       84.3                6.5  64.0   94.0\n",
       "MATH 316       90.0                5.3  75.0   98.0\n",
       "...             ...                ...   ...    ...\n",
       "MRNE 402       86.3               13.3   0.0   90.0\n",
       "VANT 140       89.1               15.2   0.0  100.0\n",
       "BUSI 455       88.9               11.1  38.0   92.0\n",
       "POLI 100       88.9               13.3   0.0   98.0\n",
       "ENGL 348       70.4                4.1  82.0   95.0\n",
       "\n",
       "[603 rows x 4 columns]"
      ]
     },
     "execution_count": 12,
     "metadata": {},
     "output_type": "execute_result"
    }
   ],
   "source": [
    "course_grades_ubc_df"
   ]
  },
  {
   "cell_type": "code",
   "execution_count": 13,
   "metadata": {},
   "outputs": [],
   "source": [
    "#course_grades_ubc_df.to_csv(\"data/course_grades_ubc_data_frame.csv\")"
   ]
  },
  {
   "cell_type": "code",
   "execution_count": null,
   "metadata": {},
   "outputs": [],
   "source": []
  }
 ],
 "metadata": {
  "kernelspec": {
   "display_name": "Python 3",
   "language": "python",
   "name": "python3"
  },
  "language_info": {
   "codemirror_mode": {
    "name": "ipython",
    "version": 3
   },
   "file_extension": ".py",
   "mimetype": "text/x-python",
   "name": "python",
   "nbconvert_exporter": "python",
   "pygments_lexer": "ipython3",
   "version": "3.7.1"
  }
 },
 "nbformat": 4,
 "nbformat_minor": 4
}
