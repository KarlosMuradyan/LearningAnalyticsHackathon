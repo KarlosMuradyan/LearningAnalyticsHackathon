{
 "cells": [
  {
   "cell_type": "code",
   "execution_count": 4,
   "metadata": {},
   "outputs": [],
   "source": [
    "import pandas as pd\n",
    "import numpy as np\n",
    "import re\n",
    "import os"
   ]
  },
  {
   "cell_type": "code",
   "execution_count": 14,
   "metadata": {},
   "outputs": [],
   "source": [
    "course_grades_s19 = open(\"../data/course_grade_metrics_2018W.txt\").read()"
   ]
  },
  {
   "cell_type": "code",
   "execution_count": 15,
   "metadata": {},
   "outputs": [],
   "source": [
    "course_grades_s19_list = course_grades_s19.split(\"\\n\")"
   ]
  },
  {
   "cell_type": "code",
   "execution_count": 16,
   "metadata": {},
   "outputs": [],
   "source": [
    "course_code_pattern = re.compile(\"[A-Z]{4}\\\\s[0-9]{3}\\\\b\")"
   ]
  },
  {
   "cell_type": "code",
   "execution_count": 17,
   "metadata": {},
   "outputs": [],
   "source": [
    "avg_list = []\n",
    "sd_list = []\n",
    "min_list = []\n",
    "max_list = []\n",
    "course_code_set = set([\"ACAM 204\"])\n",
    "\n",
    "for i in range(len(course_grades_s19_list)):\n",
    "    if course_grades_s19_list[i] == \"Avg. %\":\n",
    "        a = course_grades_s19_list[i+2:i+44]\n",
    "        a.append(course_grades_s19_list[i+43])\n",
    "        avg_list.append(a)\n",
    "    elif course_grades_s19_list[i] == \"Std. dev.\":\n",
    "        a = course_grades_s19_list[i+2:i+44]\n",
    "        sd_list.append(a)\n",
    "    elif course_grades_s19_list[i] == \"Min. %\":\n",
    "        a = course_grades_s19_list[i+2:i+44]\n",
    "        min_list.append(a)\n",
    "    elif course_grades_s19_list[i] == \"Max. %\":\n",
    "        a = course_grades_s19_list[i+2:i+44]\n",
    "        max_list.append(a)\n",
    "    elif course_code_pattern.match(course_grades_s19_list[i]):\n",
    "        course_code_set.add(course_grades_s19_list[i][0:8])"
   ]
  },
  {
   "cell_type": "code",
   "execution_count": 20,
   "metadata": {},
   "outputs": [],
   "source": [
    "average_grades = np.array(avg_list).flatten()[:3782]\n",
    "standard_dev_grades = np.array(sd_list).flatten()[:3782]\n",
    "min_grades = np.array(sd_list).flatten()[:3782]\n",
    "max_grades = np.array(max_list).flatten()[:3782]\n",
    "min_grades = np.array(min_list).flatten()[:3782]"
   ]
  },
  {
   "cell_type": "code",
   "execution_count": 21,
   "metadata": {},
   "outputs": [],
   "source": [
    "course_grades_ubc_df = pd.DataFrame({\"Average\" : average_grades,\n",
    "              \"Standard Deviation\" : standard_dev_grades,\n",
    "              \"min\": min_grades, \n",
    "              \"max\": max_grades},\n",
    "             index = course_code_set)"
   ]
  },
  {
   "cell_type": "code",
   "execution_count": 22,
   "metadata": {},
   "outputs": [],
   "source": [
    "course_grades_ubc_df.index.names = [\"Course code\"]"
   ]
  },
  {
   "cell_type": "code",
   "execution_count": 25,
   "metadata": {},
   "outputs": [
    {
     "data": {
      "text/html": [
       "<div>\n",
       "<style scoped>\n",
       "    .dataframe tbody tr th:only-of-type {\n",
       "        vertical-align: middle;\n",
       "    }\n",
       "\n",
       "    .dataframe tbody tr th {\n",
       "        vertical-align: top;\n",
       "    }\n",
       "\n",
       "    .dataframe thead th {\n",
       "        text-align: right;\n",
       "    }\n",
       "</style>\n",
       "<table border=\"1\" class=\"dataframe\">\n",
       "  <thead>\n",
       "    <tr style=\"text-align: right;\">\n",
       "      <th></th>\n",
       "      <th>Average</th>\n",
       "      <th>Standard Deviation</th>\n",
       "      <th>min</th>\n",
       "      <th>max</th>\n",
       "    </tr>\n",
       "    <tr>\n",
       "      <th>Course code</th>\n",
       "      <th></th>\n",
       "      <th></th>\n",
       "      <th></th>\n",
       "      <th></th>\n",
       "    </tr>\n",
       "  </thead>\n",
       "  <tbody>\n",
       "    <tr>\n",
       "      <td>POLI 350</td>\n",
       "      <td>88</td>\n",
       "      <td>4</td>\n",
       "      <td>82</td>\n",
       "      <td>94</td>\n",
       "    </tr>\n",
       "    <tr>\n",
       "      <td>PHAR 420</td>\n",
       "      <td>75</td>\n",
       "      <td>20</td>\n",
       "      <td>0</td>\n",
       "      <td>100</td>\n",
       "    </tr>\n",
       "    <tr>\n",
       "      <td>ANAT 548</td>\n",
       "      <td>72</td>\n",
       "      <td>13</td>\n",
       "      <td>0</td>\n",
       "      <td>100</td>\n",
       "    </tr>\n",
       "    <tr>\n",
       "      <td>VISA 321</td>\n",
       "      <td>80</td>\n",
       "      <td>6</td>\n",
       "      <td>50</td>\n",
       "      <td>90</td>\n",
       "    </tr>\n",
       "    <tr>\n",
       "      <td>GEOB 402</td>\n",
       "      <td>82</td>\n",
       "      <td>11</td>\n",
       "      <td>26</td>\n",
       "      <td>95</td>\n",
       "    </tr>\n",
       "    <tr>\n",
       "      <td>...</td>\n",
       "      <td>...</td>\n",
       "      <td>...</td>\n",
       "      <td>...</td>\n",
       "      <td>...</td>\n",
       "    </tr>\n",
       "    <tr>\n",
       "      <td>GEOB 405</td>\n",
       "      <td>70</td>\n",
       "      <td>6</td>\n",
       "      <td>64</td>\n",
       "      <td>90</td>\n",
       "    </tr>\n",
       "    <tr>\n",
       "      <td>ANTH 449</td>\n",
       "      <td>85</td>\n",
       "      <td>4</td>\n",
       "      <td>64</td>\n",
       "      <td>85</td>\n",
       "    </tr>\n",
       "    <tr>\n",
       "      <td>MATH 344</td>\n",
       "      <td>86</td>\n",
       "      <td></td>\n",
       "      <td></td>\n",
       "      <td></td>\n",
       "    </tr>\n",
       "    <tr>\n",
       "      <td>POLI 100</td>\n",
       "      <td>76</td>\n",
       "      <td>6</td>\n",
       "      <td>51</td>\n",
       "      <td>90</td>\n",
       "    </tr>\n",
       "    <tr>\n",
       "      <td>HIST 378</td>\n",
       "      <td>77</td>\n",
       "      <td>16</td>\n",
       "      <td>7</td>\n",
       "      <td>100</td>\n",
       "    </tr>\n",
       "  </tbody>\n",
       "</table>\n",
       "<p>3782 rows × 4 columns</p>\n",
       "</div>"
      ],
      "text/plain": [
       "            Average Standard Deviation min  max\n",
       "Course code                                    \n",
       "POLI 350         88                  4  82   94\n",
       "PHAR 420         75                 20   0  100\n",
       "ANAT 548         72                 13   0  100\n",
       "VISA 321         80                  6  50   90\n",
       "GEOB 402         82                 11  26   95\n",
       "...             ...                ...  ..  ...\n",
       "GEOB 405         70                  6  64   90\n",
       "ANTH 449         85                  4  64   85\n",
       "MATH 344         86                            \n",
       "POLI 100         76                  6  51   90\n",
       "HIST 378         77                 16   7  100\n",
       "\n",
       "[3782 rows x 4 columns]"
      ]
     },
     "execution_count": 25,
     "metadata": {},
     "output_type": "execute_result"
    }
   ],
   "source": [
    "course_grades_ubc_df"
   ]
  },
  {
   "cell_type": "code",
   "execution_count": 30,
   "metadata": {},
   "outputs": [],
   "source": [
    "course_grades_ubc_df.to_csv(\"../data/course_grades_ubc_data_frame_2018W.csv\")"
   ]
  },
  {
   "cell_type": "code",
   "execution_count": 29,
   "metadata": {},
   "outputs": [
    {
     "data": {
      "text/plain": [
       "'/Users/robertblumberg/Documents/ML_Projects/LA_Hackathon/LearningAnalyticsHackathon/src'"
      ]
     },
     "execution_count": 29,
     "metadata": {},
     "output_type": "execute_result"
    }
   ],
   "source": [
    "os.getcwd()"
   ]
  },
  {
   "cell_type": "code",
   "execution_count": null,
   "metadata": {},
   "outputs": [],
   "source": []
  }
 ],
 "metadata": {
  "kernelspec": {
   "display_name": "Python 3",
   "language": "python",
   "name": "python3"
  },
  "language_info": {
   "codemirror_mode": {
    "name": "ipython",
    "version": 3
   },
   "file_extension": ".py",
   "mimetype": "text/x-python",
   "name": "python",
   "nbconvert_exporter": "python",
   "pygments_lexer": "ipython3",
   "version": "3.7.1"
  }
 },
 "nbformat": 4,
 "nbformat_minor": 4
}
